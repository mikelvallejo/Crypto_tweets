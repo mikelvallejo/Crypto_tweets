{
 "cells": [
  {
   "cell_type": "markdown",
   "metadata": {},
   "source": [
    "# Extract BTC Data from Coinbase API"
   ]
  },
  {
   "cell_type": "code",
   "execution_count": 1,
   "metadata": {},
   "outputs": [],
   "source": [
    "import pandas as pd"
   ]
  },
  {
   "cell_type": "code",
   "execution_count": 2,
   "metadata": {},
   "outputs": [
    {
     "name": "stdout",
     "output_type": "stream",
     "text": [
      "Checking input parameters are in the correct format...\n",
      "Formatting Dates...\n",
      "Checking if ticker supplied is available on the CoinBase Pro API...\n",
      "Connected to the CoinBase Pro API...\n",
      "Ticker 'BTC-USD' found at the CoinBase Pro API, continuing to extraction...\n",
      "Data Extracted from API...\n"
     ]
    }
   ],
   "source": [
    "from Historic_Crypto import HistoricalData\n",
    "\n",
    "df= HistoricalData('BTC-USD',86400,'2021-01-01-00-00').retrieve_data()"
   ]
  },
  {
   "cell_type": "code",
   "execution_count": 3,
   "metadata": {},
   "outputs": [
    {
     "data": {
      "text/html": [
       "<div>\n",
       "<style scoped>\n",
       "    .dataframe tbody tr th:only-of-type {\n",
       "        vertical-align: middle;\n",
       "    }\n",
       "\n",
       "    .dataframe tbody tr th {\n",
       "        vertical-align: top;\n",
       "    }\n",
       "\n",
       "    .dataframe thead th {\n",
       "        text-align: right;\n",
       "    }\n",
       "</style>\n",
       "<table border=\"1\" class=\"dataframe\">\n",
       "  <thead>\n",
       "    <tr style=\"text-align: right;\">\n",
       "      <th></th>\n",
       "      <th>low</th>\n",
       "      <th>high</th>\n",
       "      <th>open</th>\n",
       "      <th>close</th>\n",
       "      <th>volume</th>\n",
       "    </tr>\n",
       "    <tr>\n",
       "      <th>time</th>\n",
       "      <th></th>\n",
       "      <th></th>\n",
       "      <th></th>\n",
       "      <th></th>\n",
       "      <th></th>\n",
       "    </tr>\n",
       "  </thead>\n",
       "  <tbody>\n",
       "    <tr>\n",
       "      <th>2021-01-01</th>\n",
       "      <td>28700.00</td>\n",
       "      <td>29688.88</td>\n",
       "      <td>28990.08</td>\n",
       "      <td>29412.84</td>\n",
       "      <td>22211.252518</td>\n",
       "    </tr>\n",
       "    <tr>\n",
       "      <th>2021-01-02</th>\n",
       "      <td>29039.00</td>\n",
       "      <td>33300.00</td>\n",
       "      <td>29413.29</td>\n",
       "      <td>32225.91</td>\n",
       "      <td>46675.246521</td>\n",
       "    </tr>\n",
       "    <tr>\n",
       "      <th>2021-01-03</th>\n",
       "      <td>32008.62</td>\n",
       "      <td>34810.00</td>\n",
       "      <td>32222.88</td>\n",
       "      <td>33080.66</td>\n",
       "      <td>36951.716506</td>\n",
       "    </tr>\n",
       "    <tr>\n",
       "      <th>2021-01-04</th>\n",
       "      <td>27678.00</td>\n",
       "      <td>33666.99</td>\n",
       "      <td>33082.84</td>\n",
       "      <td>32019.99</td>\n",
       "      <td>46045.389685</td>\n",
       "    </tr>\n",
       "    <tr>\n",
       "      <th>2021-01-05</th>\n",
       "      <td>29891.13</td>\n",
       "      <td>34499.67</td>\n",
       "      <td>32020.22</td>\n",
       "      <td>34030.64</td>\n",
       "      <td>42282.569200</td>\n",
       "    </tr>\n",
       "  </tbody>\n",
       "</table>\n",
       "</div>"
      ],
      "text/plain": [
       "                 low      high      open     close        volume\n",
       "time                                                            \n",
       "2021-01-01  28700.00  29688.88  28990.08  29412.84  22211.252518\n",
       "2021-01-02  29039.00  33300.00  29413.29  32225.91  46675.246521\n",
       "2021-01-03  32008.62  34810.00  32222.88  33080.66  36951.716506\n",
       "2021-01-04  27678.00  33666.99  33082.84  32019.99  46045.389685\n",
       "2021-01-05  29891.13  34499.67  32020.22  34030.64  42282.569200"
      ]
     },
     "execution_count": 3,
     "metadata": {},
     "output_type": "execute_result"
    }
   ],
   "source": [
    "df.head()"
   ]
  },
  {
   "cell_type": "code",
   "execution_count": 4,
   "metadata": {},
   "outputs": [],
   "source": [
    "#Reset index\n",
    "df.reset_index(inplace=True)"
   ]
  },
  {
   "cell_type": "code",
   "execution_count": 5,
   "metadata": {},
   "outputs": [],
   "source": [
    "#Column rename\n",
    "df= df.rename(columns={'time':'Date', 'low': 'Low','high': 'High', 'open': 'Open', 'close': 'Close' })"
   ]
  },
  {
   "cell_type": "code",
   "execution_count": 6,
   "metadata": {},
   "outputs": [],
   "source": [
    "#delete columns\n",
    "del df['volume']\n",
    "del df['High']\n",
    "del df['Low']\n",
    "del df['Open']"
   ]
  },
  {
   "cell_type": "code",
   "execution_count": 7,
   "metadata": {},
   "outputs": [],
   "source": [
    "#Sort columns\n",
    "column_names = [\"Date\", \"Close\"]\n",
    "\n",
    "df = df.reindex(columns=column_names)"
   ]
  },
  {
   "cell_type": "code",
   "execution_count": 8,
   "metadata": {},
   "outputs": [],
   "source": [
    "df= df.rename(columns={'Date':'Date', 'Close': 'BTC_price'})"
   ]
  },
  {
   "cell_type": "code",
   "execution_count": 9,
   "metadata": {},
   "outputs": [
    {
     "data": {
      "text/html": [
       "<div>\n",
       "<style scoped>\n",
       "    .dataframe tbody tr th:only-of-type {\n",
       "        vertical-align: middle;\n",
       "    }\n",
       "\n",
       "    .dataframe tbody tr th {\n",
       "        vertical-align: top;\n",
       "    }\n",
       "\n",
       "    .dataframe thead th {\n",
       "        text-align: right;\n",
       "    }\n",
       "</style>\n",
       "<table border=\"1\" class=\"dataframe\">\n",
       "  <thead>\n",
       "    <tr style=\"text-align: right;\">\n",
       "      <th></th>\n",
       "      <th>Date</th>\n",
       "      <th>BTC_price</th>\n",
       "    </tr>\n",
       "  </thead>\n",
       "  <tbody>\n",
       "    <tr>\n",
       "      <th>0</th>\n",
       "      <td>2021-01-01</td>\n",
       "      <td>29412.84</td>\n",
       "    </tr>\n",
       "    <tr>\n",
       "      <th>1</th>\n",
       "      <td>2021-01-02</td>\n",
       "      <td>32225.91</td>\n",
       "    </tr>\n",
       "    <tr>\n",
       "      <th>2</th>\n",
       "      <td>2021-01-03</td>\n",
       "      <td>33080.66</td>\n",
       "    </tr>\n",
       "    <tr>\n",
       "      <th>3</th>\n",
       "      <td>2021-01-04</td>\n",
       "      <td>32019.99</td>\n",
       "    </tr>\n",
       "    <tr>\n",
       "      <th>4</th>\n",
       "      <td>2021-01-05</td>\n",
       "      <td>34030.64</td>\n",
       "    </tr>\n",
       "  </tbody>\n",
       "</table>\n",
       "</div>"
      ],
      "text/plain": [
       "        Date  BTC_price\n",
       "0 2021-01-01   29412.84\n",
       "1 2021-01-02   32225.91\n",
       "2 2021-01-03   33080.66\n",
       "3 2021-01-04   32019.99\n",
       "4 2021-01-05   34030.64"
      ]
     },
     "execution_count": 9,
     "metadata": {},
     "output_type": "execute_result"
    }
   ],
   "source": [
    "df.head()"
   ]
  },
  {
   "cell_type": "markdown",
   "metadata": {},
   "source": [
    "# Extract ETH Data from Coinbase API\n"
   ]
  },
  {
   "cell_type": "code",
   "execution_count": 10,
   "metadata": {},
   "outputs": [
    {
     "name": "stdout",
     "output_type": "stream",
     "text": [
      "Checking input parameters are in the correct format...\n",
      "Formatting Dates...\n",
      "Checking if ticker supplied is available on the CoinBase Pro API...\n",
      "Connected to the CoinBase Pro API...\n",
      "Ticker 'ETH-USD' found at the CoinBase Pro API, continuing to extraction...\n",
      "Data Extracted from API...\n"
     ]
    }
   ],
   "source": [
    "from Historic_Crypto import HistoricalData\n",
    "\n",
    "df_eth= HistoricalData('ETH-USD',86400,'2021-01-01-00-00').retrieve_data()"
   ]
  },
  {
   "cell_type": "code",
   "execution_count": 11,
   "metadata": {},
   "outputs": [
    {
     "data": {
      "text/html": [
       "<div>\n",
       "<style scoped>\n",
       "    .dataframe tbody tr th:only-of-type {\n",
       "        vertical-align: middle;\n",
       "    }\n",
       "\n",
       "    .dataframe tbody tr th {\n",
       "        vertical-align: top;\n",
       "    }\n",
       "\n",
       "    .dataframe thead th {\n",
       "        text-align: right;\n",
       "    }\n",
       "</style>\n",
       "<table border=\"1\" class=\"dataframe\">\n",
       "  <thead>\n",
       "    <tr style=\"text-align: right;\">\n",
       "      <th></th>\n",
       "      <th>low</th>\n",
       "      <th>high</th>\n",
       "      <th>open</th>\n",
       "      <th>close</th>\n",
       "      <th>volume</th>\n",
       "    </tr>\n",
       "    <tr>\n",
       "      <th>time</th>\n",
       "      <th></th>\n",
       "      <th></th>\n",
       "      <th></th>\n",
       "      <th></th>\n",
       "      <th></th>\n",
       "    </tr>\n",
       "  </thead>\n",
       "  <tbody>\n",
       "    <tr>\n",
       "      <th>2021-01-01</th>\n",
       "      <td>717.10</td>\n",
       "      <td>750.00</td>\n",
       "      <td>737.89</td>\n",
       "      <td>730.99</td>\n",
       "      <td>1.980604e+05</td>\n",
       "    </tr>\n",
       "    <tr>\n",
       "      <th>2021-01-02</th>\n",
       "      <td>715.22</td>\n",
       "      <td>789.21</td>\n",
       "      <td>730.97</td>\n",
       "      <td>775.30</td>\n",
       "      <td>3.688993e+05</td>\n",
       "    </tr>\n",
       "    <tr>\n",
       "      <th>2021-01-03</th>\n",
       "      <td>770.00</td>\n",
       "      <td>1015.14</td>\n",
       "      <td>775.29</td>\n",
       "      <td>980.44</td>\n",
       "      <td>8.587438e+05</td>\n",
       "    </tr>\n",
       "    <tr>\n",
       "      <th>2021-01-04</th>\n",
       "      <td>886.33</td>\n",
       "      <td>1168.99</td>\n",
       "      <td>980.44</td>\n",
       "      <td>1042.38</td>\n",
       "      <td>1.103883e+06</td>\n",
       "    </tr>\n",
       "    <tr>\n",
       "      <th>2021-01-05</th>\n",
       "      <td>975.00</td>\n",
       "      <td>1136.93</td>\n",
       "      <td>1042.24</td>\n",
       "      <td>1103.73</td>\n",
       "      <td>8.584959e+05</td>\n",
       "    </tr>\n",
       "  </tbody>\n",
       "</table>\n",
       "</div>"
      ],
      "text/plain": [
       "               low     high     open    close        volume\n",
       "time                                                       \n",
       "2021-01-01  717.10   750.00   737.89   730.99  1.980604e+05\n",
       "2021-01-02  715.22   789.21   730.97   775.30  3.688993e+05\n",
       "2021-01-03  770.00  1015.14   775.29   980.44  8.587438e+05\n",
       "2021-01-04  886.33  1168.99   980.44  1042.38  1.103883e+06\n",
       "2021-01-05  975.00  1136.93  1042.24  1103.73  8.584959e+05"
      ]
     },
     "execution_count": 11,
     "metadata": {},
     "output_type": "execute_result"
    }
   ],
   "source": [
    "df_eth.head()"
   ]
  },
  {
   "cell_type": "code",
   "execution_count": 12,
   "metadata": {},
   "outputs": [],
   "source": [
    "#Reset index\n",
    "df_eth.reset_index(inplace=True)"
   ]
  },
  {
   "cell_type": "code",
   "execution_count": 13,
   "metadata": {},
   "outputs": [],
   "source": [
    "#Column rename\n",
    "df_eth= df_eth.rename(columns={'time':'Date', 'low': 'Low','high': 'High', 'open': 'Open', 'close': 'Close' })"
   ]
  },
  {
   "cell_type": "code",
   "execution_count": 14,
   "metadata": {},
   "outputs": [],
   "source": [
    "#delete columns\n",
    "del df_eth['volume']\n",
    "del df_eth['High']\n",
    "del df_eth['Low']\n",
    "del df_eth['Open']"
   ]
  },
  {
   "cell_type": "code",
   "execution_count": 15,
   "metadata": {},
   "outputs": [],
   "source": [
    "#Sort columns\n",
    "column_names = [\"Date\", \"Close\"]\n",
    "\n",
    "df_eth = df_eth.reindex(columns=column_names)"
   ]
  },
  {
   "cell_type": "code",
   "execution_count": 16,
   "metadata": {},
   "outputs": [],
   "source": [
    "df_eth= df_eth.rename(columns={'Date':'Date', 'Close': 'ETH_price'})"
   ]
  },
  {
   "cell_type": "code",
   "execution_count": 26,
   "metadata": {},
   "outputs": [
    {
     "data": {
      "text/html": [
       "<div>\n",
       "<style scoped>\n",
       "    .dataframe tbody tr th:only-of-type {\n",
       "        vertical-align: middle;\n",
       "    }\n",
       "\n",
       "    .dataframe tbody tr th {\n",
       "        vertical-align: top;\n",
       "    }\n",
       "\n",
       "    .dataframe thead th {\n",
       "        text-align: right;\n",
       "    }\n",
       "</style>\n",
       "<table border=\"1\" class=\"dataframe\">\n",
       "  <thead>\n",
       "    <tr style=\"text-align: right;\">\n",
       "      <th></th>\n",
       "      <th>Date</th>\n",
       "      <th>ETH_price</th>\n",
       "    </tr>\n",
       "  </thead>\n",
       "  <tbody>\n",
       "    <tr>\n",
       "      <th>0</th>\n",
       "      <td>2021-01-01</td>\n",
       "      <td>730.99</td>\n",
       "    </tr>\n",
       "    <tr>\n",
       "      <th>1</th>\n",
       "      <td>2021-01-02</td>\n",
       "      <td>775.30</td>\n",
       "    </tr>\n",
       "    <tr>\n",
       "      <th>2</th>\n",
       "      <td>2021-01-03</td>\n",
       "      <td>980.44</td>\n",
       "    </tr>\n",
       "    <tr>\n",
       "      <th>3</th>\n",
       "      <td>2021-01-04</td>\n",
       "      <td>1042.38</td>\n",
       "    </tr>\n",
       "    <tr>\n",
       "      <th>4</th>\n",
       "      <td>2021-01-05</td>\n",
       "      <td>1103.73</td>\n",
       "    </tr>\n",
       "  </tbody>\n",
       "</table>\n",
       "</div>"
      ],
      "text/plain": [
       "        Date  ETH_price\n",
       "0 2021-01-01     730.99\n",
       "1 2021-01-02     775.30\n",
       "2 2021-01-03     980.44\n",
       "3 2021-01-04    1042.38\n",
       "4 2021-01-05    1103.73"
      ]
     },
     "execution_count": 26,
     "metadata": {},
     "output_type": "execute_result"
    }
   ],
   "source": [
    "df_eth.head()"
   ]
  },
  {
   "cell_type": "markdown",
   "metadata": {},
   "source": [
    "# Upload DOGE data from Kaggle"
   ]
  },
  {
   "cell_type": "code",
   "execution_count": 18,
   "metadata": {},
   "outputs": [],
   "source": [
    "df_doge=pd.read_csv('/Users/mikel/Documents/Projects/Crypto_tweets/DOGE-USD.csv')"
   ]
  },
  {
   "cell_type": "code",
   "execution_count": 19,
   "metadata": {},
   "outputs": [
    {
     "data": {
      "text/html": [
       "<div>\n",
       "<style scoped>\n",
       "    .dataframe tbody tr th:only-of-type {\n",
       "        vertical-align: middle;\n",
       "    }\n",
       "\n",
       "    .dataframe tbody tr th {\n",
       "        vertical-align: top;\n",
       "    }\n",
       "\n",
       "    .dataframe thead th {\n",
       "        text-align: right;\n",
       "    }\n",
       "</style>\n",
       "<table border=\"1\" class=\"dataframe\">\n",
       "  <thead>\n",
       "    <tr style=\"text-align: right;\">\n",
       "      <th></th>\n",
       "      <th>Date</th>\n",
       "      <th>Open</th>\n",
       "      <th>High</th>\n",
       "      <th>Low</th>\n",
       "      <th>Close</th>\n",
       "      <th>Adj Close</th>\n",
       "      <th>Volume</th>\n",
       "    </tr>\n",
       "  </thead>\n",
       "  <tbody>\n",
       "    <tr>\n",
       "      <th>0</th>\n",
       "      <td>2014-09-17</td>\n",
       "      <td>0.000293</td>\n",
       "      <td>0.000299</td>\n",
       "      <td>0.000260</td>\n",
       "      <td>0.000268</td>\n",
       "      <td>0.000268</td>\n",
       "      <td>1463600.0</td>\n",
       "    </tr>\n",
       "    <tr>\n",
       "      <th>1</th>\n",
       "      <td>2014-09-18</td>\n",
       "      <td>0.000268</td>\n",
       "      <td>0.000325</td>\n",
       "      <td>0.000267</td>\n",
       "      <td>0.000298</td>\n",
       "      <td>0.000298</td>\n",
       "      <td>2215910.0</td>\n",
       "    </tr>\n",
       "    <tr>\n",
       "      <th>2</th>\n",
       "      <td>2014-09-19</td>\n",
       "      <td>0.000298</td>\n",
       "      <td>0.000307</td>\n",
       "      <td>0.000275</td>\n",
       "      <td>0.000277</td>\n",
       "      <td>0.000277</td>\n",
       "      <td>883563.0</td>\n",
       "    </tr>\n",
       "    <tr>\n",
       "      <th>3</th>\n",
       "      <td>2014-09-20</td>\n",
       "      <td>0.000276</td>\n",
       "      <td>0.000310</td>\n",
       "      <td>0.000267</td>\n",
       "      <td>0.000292</td>\n",
       "      <td>0.000292</td>\n",
       "      <td>993004.0</td>\n",
       "    </tr>\n",
       "    <tr>\n",
       "      <th>4</th>\n",
       "      <td>2014-09-21</td>\n",
       "      <td>0.000293</td>\n",
       "      <td>0.000299</td>\n",
       "      <td>0.000284</td>\n",
       "      <td>0.000288</td>\n",
       "      <td>0.000288</td>\n",
       "      <td>539140.0</td>\n",
       "    </tr>\n",
       "  </tbody>\n",
       "</table>\n",
       "</div>"
      ],
      "text/plain": [
       "         Date      Open      High       Low     Close  Adj Close     Volume\n",
       "0  2014-09-17  0.000293  0.000299  0.000260  0.000268   0.000268  1463600.0\n",
       "1  2014-09-18  0.000268  0.000325  0.000267  0.000298   0.000298  2215910.0\n",
       "2  2014-09-19  0.000298  0.000307  0.000275  0.000277   0.000277   883563.0\n",
       "3  2014-09-20  0.000276  0.000310  0.000267  0.000292   0.000292   993004.0\n",
       "4  2014-09-21  0.000293  0.000299  0.000284  0.000288   0.000288   539140.0"
      ]
     },
     "execution_count": 19,
     "metadata": {},
     "output_type": "execute_result"
    }
   ],
   "source": [
    "df_doge.head()"
   ]
  },
  {
   "cell_type": "code",
   "execution_count": 20,
   "metadata": {},
   "outputs": [],
   "source": [
    "#delete columns\n",
    "del df_doge['Volume']\n",
    "del df_doge['High']\n",
    "del df_doge['Low']\n",
    "del df_doge['Open']\n",
    "del df_doge['Adj Close']"
   ]
  },
  {
   "cell_type": "code",
   "execution_count": 21,
   "metadata": {},
   "outputs": [],
   "source": [
    "df_doge= df_doge.rename(columns={'Close': 'DOGE_price'})"
   ]
  },
  {
   "cell_type": "code",
   "execution_count": 24,
   "metadata": {},
   "outputs": [
    {
     "data": {
      "text/html": [
       "<div>\n",
       "<style scoped>\n",
       "    .dataframe tbody tr th:only-of-type {\n",
       "        vertical-align: middle;\n",
       "    }\n",
       "\n",
       "    .dataframe tbody tr th {\n",
       "        vertical-align: top;\n",
       "    }\n",
       "\n",
       "    .dataframe thead th {\n",
       "        text-align: right;\n",
       "    }\n",
       "</style>\n",
       "<table border=\"1\" class=\"dataframe\">\n",
       "  <thead>\n",
       "    <tr style=\"text-align: right;\">\n",
       "      <th></th>\n",
       "      <th>Date</th>\n",
       "      <th>DOGE_price</th>\n",
       "    </tr>\n",
       "  </thead>\n",
       "  <tbody>\n",
       "    <tr>\n",
       "      <th>0</th>\n",
       "      <td>2014-09-17</td>\n",
       "      <td>0.000268</td>\n",
       "    </tr>\n",
       "    <tr>\n",
       "      <th>1</th>\n",
       "      <td>2014-09-18</td>\n",
       "      <td>0.000298</td>\n",
       "    </tr>\n",
       "    <tr>\n",
       "      <th>2</th>\n",
       "      <td>2014-09-19</td>\n",
       "      <td>0.000277</td>\n",
       "    </tr>\n",
       "    <tr>\n",
       "      <th>3</th>\n",
       "      <td>2014-09-20</td>\n",
       "      <td>0.000292</td>\n",
       "    </tr>\n",
       "    <tr>\n",
       "      <th>4</th>\n",
       "      <td>2014-09-21</td>\n",
       "      <td>0.000288</td>\n",
       "    </tr>\n",
       "  </tbody>\n",
       "</table>\n",
       "</div>"
      ],
      "text/plain": [
       "         Date  DOGE_price\n",
       "0  2014-09-17    0.000268\n",
       "1  2014-09-18    0.000298\n",
       "2  2014-09-19    0.000277\n",
       "3  2014-09-20    0.000292\n",
       "4  2014-09-21    0.000288"
      ]
     },
     "execution_count": 24,
     "metadata": {},
     "output_type": "execute_result"
    }
   ],
   "source": [
    "df_doge.head()"
   ]
  },
  {
   "cell_type": "markdown",
   "metadata": {},
   "source": [
    "# Extract Data from Twitter API"
   ]
  },
  {
   "cell_type": "code",
   "execution_count": 27,
   "metadata": {},
   "outputs": [],
   "source": [
    "import tweepy\n",
    "import csv"
   ]
  },
  {
   "cell_type": "code",
   "execution_count": null,
   "metadata": {},
   "outputs": [],
   "source": [
    "f=open(\"/Users/mikel/Documents/Projects/Crypto_tweets/twitter_keys.txt\",\"rb\")\n",
    "lines=f.readlines()\n",
    "consumer_key=lines[0]\n",
    "consumer_secret=lines[1]\n",
    "access_key=lines[2]\n",
    "access_secret=lines[3]\n",
    "f.close()"
   ]
  },
  {
   "cell_type": "code",
   "execution_count": 29,
   "metadata": {},
   "outputs": [],
   "source": [
    "def get_tweets(screen_name):\n",
    "    #Twitter only allows access to a users most recent 3240 tweets with this method\n",
    "    #read csv\n",
    "    with open('/Users/mikel/Documents/Projects/Crypto_tweets/elonmusk_tweets.csv', 'r') as elonmusk:\n",
    "        elon_tweets=list(csv.reader(elonmusk))\n",
    "    \n",
    "    alltweets=[]\n",
    "    \n",
    "    #authorize twitter, initialize tweepy\n",
    "    auth = tweepy.OAuthHandler(consumer_key, consumer_secret)\n",
    "    auth.set_access_token(access_key, access_secret)\n",
    "    api = tweepy.API(auth)\n",
    "    \n",
    "    #make initial request for most recent tweets (200 is the maximum allowed count)\n",
    "    new_tweets = api.user_timeline(screen_name = screen_name,count=200)\n",
    "    \n",
    "    #save most recent tweets\n",
    "    alltweets.extend(new_tweets)\n",
    "    \n",
    "    #save the id of the oldest tweet less one\n",
    "    oldest = alltweets[-1].id - 1\n",
    "    \n",
    "    #keep grabbing tweets until there are no tweets left to grab\n",
    "    while len(new_tweets) > 0:\n",
    "        print(f\"getting tweets before {oldest}\")\n",
    "        \n",
    "        #all subsiquent requests use the max_id param to prevent duplicates\n",
    "        new_tweets = api.user_timeline(screen_name = screen_name,count=200,max_id=oldest)\n",
    "        \n",
    "        #save most recent tweets\n",
    "        alltweets.extend(new_tweets)\n",
    "        \n",
    "        #update the id of the oldest tweet less one\n",
    "        oldest = alltweets[-1].id - 1\n",
    "\n",
    "        print(f\"...{len(alltweets)} tweets downloaded so far\")\n",
    "    \n",
    "    #transform the tweepy tweets into a 2D array that will populate the csv \n",
    "    outtweets = [[tweet.id_str, tweet.created_at, tweet.text] for tweet in alltweets]\n",
    "    elon_tweets+=outtweets\n",
    "    \n",
    "    #write the csv  \n",
    "    with open('/Users/mikel/Documents/Projects/Crypto_tweets/elonmusk_tweets.csv', 'w') as f:\n",
    "        writer = csv.writer(f)\n",
    "        writer.writerow([\"id\",\"created_at\",\"text\"])\n",
    "        writer.writerows(elon_tweets)\n",
    "    pass\n",
    "    "
   ]
  },
  {
   "cell_type": "code",
   "execution_count": null,
   "metadata": {},
   "outputs": [],
   "source": [
    "#get_tweets('elonmusk')"
   ]
  },
  {
   "cell_type": "code",
   "execution_count": 30,
   "metadata": {},
   "outputs": [],
   "source": [
    "df_elon=pd.read_csv('/Users/mikel/Documents/week3/Proyecto_ETL/new_elonmusk_tweets.csv')"
   ]
  },
  {
   "cell_type": "code",
   "execution_count": 31,
   "metadata": {},
   "outputs": [],
   "source": [
    "#Drop duplicates\n",
    "df_elon=df_elon.drop_duplicates(keep='first')"
   ]
  },
  {
   "cell_type": "code",
   "execution_count": 32,
   "metadata": {},
   "outputs": [],
   "source": [
    "#Drop id column\n",
    "del df_elon['id']"
   ]
  },
  {
   "cell_type": "code",
   "execution_count": 33,
   "metadata": {},
   "outputs": [],
   "source": [
    "#Drop nulls\n",
    "df_elon=df_elon.dropna()"
   ]
  },
  {
   "cell_type": "code",
   "execution_count": 34,
   "metadata": {},
   "outputs": [],
   "source": [
    "#Select the tweets that contain crypto topics givin boolean value True/False.\n",
    "crypto_topics_lst = ['bitcoin', 'Bitcoin', 'crypto', 'Crypto', 'Blockchain', \n",
    "                     'blockchain', 'Regulation', 'Doge', 'doge', 'DOGE', 'Ethereum', \n",
    "                     'ethereum', 'Money', 'money', 'Currency', 'currency', \n",
    "                    'Coin', 'coin', 'DeFi', 'ETF', 'BTC']\n",
    "\n",
    "new_lst=[]\n",
    "        \n",
    "for i in df_elon['text']:\n",
    "    new_lst.append(any(ele in i for ele in crypto_topics_lst))"
   ]
  },
  {
   "cell_type": "code",
   "execution_count": 35,
   "metadata": {},
   "outputs": [],
   "source": [
    "#Transform that list into a new column\n",
    "df_elon['boolean']=new_lst"
   ]
  },
  {
   "cell_type": "code",
   "execution_count": 36,
   "metadata": {},
   "outputs": [],
   "source": [
    "#Small changes\n",
    "df_elon=df_elon[~df_elon.created_at.str.contains(\"created_at\")]\n",
    "df_elon = df_elon.rename(columns={'created_at':'Date', 'text': 'Tweet','boolean': 'Elon_tweet'})"
   ]
  },
  {
   "cell_type": "code",
   "execution_count": 37,
   "metadata": {},
   "outputs": [],
   "source": [
    "#Change the date so it has the same structure as df\n",
    "df_elon['Date']=df_elon['Date'].str[:10]"
   ]
  },
  {
   "cell_type": "code",
   "execution_count": 38,
   "metadata": {},
   "outputs": [],
   "source": [
    "#restart index\n",
    "df_elon=df_elon.reset_index(drop=True)"
   ]
  },
  {
   "cell_type": "code",
   "execution_count": 39,
   "metadata": {},
   "outputs": [],
   "source": [
    "#Create a new df that collects al the tweets about crypto topics\n",
    "df_elon_true=df_elon.loc[df_elon['Elon_tweet'] == True]"
   ]
  },
  {
   "cell_type": "code",
   "execution_count": 40,
   "metadata": {},
   "outputs": [],
   "source": [
    "#Drop duplicates\n",
    "df_elon_true=df_elon_true.drop_duplicates()"
   ]
  },
  {
   "cell_type": "code",
   "execution_count": 41,
   "metadata": {},
   "outputs": [],
   "source": [
    "df_elon_true= df_elon_true[~df_elon_true['Tweet'].astype(str).str.startswith('@')]"
   ]
  },
  {
   "cell_type": "code",
   "execution_count": 42,
   "metadata": {},
   "outputs": [
    {
     "data": {
      "text/html": [
       "<div>\n",
       "<style scoped>\n",
       "    .dataframe tbody tr th:only-of-type {\n",
       "        vertical-align: middle;\n",
       "    }\n",
       "\n",
       "    .dataframe tbody tr th {\n",
       "        vertical-align: top;\n",
       "    }\n",
       "\n",
       "    .dataframe thead th {\n",
       "        text-align: right;\n",
       "    }\n",
       "</style>\n",
       "<table border=\"1\" class=\"dataframe\">\n",
       "  <thead>\n",
       "    <tr style=\"text-align: right;\">\n",
       "      <th></th>\n",
       "      <th>Date</th>\n",
       "      <th>Tweet</th>\n",
       "      <th>Elon_tweet</th>\n",
       "    </tr>\n",
       "  </thead>\n",
       "  <tbody>\n",
       "    <tr>\n",
       "      <th>4</th>\n",
       "      <td>2021-05-13</td>\n",
       "      <td>Working with Doge devs to improve system trans...</td>\n",
       "      <td>True</td>\n",
       "    </tr>\n",
       "    <tr>\n",
       "      <th>6</th>\n",
       "      <td>2021-05-13</td>\n",
       "      <td>To be clear, I strongly believe in crypto, but...</td>\n",
       "      <td>True</td>\n",
       "    </tr>\n",
       "    <tr>\n",
       "      <th>10</th>\n",
       "      <td>2021-05-12</td>\n",
       "      <td>Tesla &amp;amp; Bitcoin https://t.co/YSswJmVZhP</td>\n",
       "      <td>True</td>\n",
       "    </tr>\n",
       "    <tr>\n",
       "      <th>20</th>\n",
       "      <td>2021-05-11</td>\n",
       "      <td>Do you want Tesla to accept Doge?</td>\n",
       "      <td>True</td>\n",
       "    </tr>\n",
       "    <tr>\n",
       "      <th>30</th>\n",
       "      <td>2021-05-09</td>\n",
       "      <td>SpaceX launching satellite Doge-1 to the moon ...</td>\n",
       "      <td>True</td>\n",
       "    </tr>\n",
       "    <tr>\n",
       "      <th>49</th>\n",
       "      <td>2021-05-07</td>\n",
       "      <td>Cryptocurrency is promising, but please invest...</td>\n",
       "      <td>True</td>\n",
       "    </tr>\n",
       "    <tr>\n",
       "      <th>116</th>\n",
       "      <td>2021-04-28</td>\n",
       "      <td>The Dogefather\\nSNL May 8</td>\n",
       "      <td>True</td>\n",
       "    </tr>\n",
       "    <tr>\n",
       "      <th>215</th>\n",
       "      <td>2021-04-15</td>\n",
       "      <td>Doge Barking at the Moon https://t.co/QFB81D7zOL</td>\n",
       "      <td>True</td>\n",
       "    </tr>\n",
       "    <tr>\n",
       "      <th>342</th>\n",
       "      <td>2021-04-03</td>\n",
       "      <td>Me in my sick new car\\n(left him the money) ht...</td>\n",
       "      <td>True</td>\n",
       "    </tr>\n",
       "    <tr>\n",
       "      <th>348</th>\n",
       "      <td>2021-04-01</td>\n",
       "      <td>SpaceX is going to put a literal Dogecoin on t...</td>\n",
       "      <td>True</td>\n",
       "    </tr>\n",
       "    <tr>\n",
       "      <th>400</th>\n",
       "      <td>2021-03-25</td>\n",
       "      <td>Don’t defy DeFi</td>\n",
       "      <td>True</td>\n",
       "    </tr>\n",
       "    <tr>\n",
       "      <th>409</th>\n",
       "      <td>2021-03-24</td>\n",
       "      <td>Pay by Bitcoin capability available outside US...</td>\n",
       "      <td>True</td>\n",
       "    </tr>\n",
       "    <tr>\n",
       "      <th>410</th>\n",
       "      <td>2021-03-24</td>\n",
       "      <td>Tesla is using only internal &amp;amp; open source...</td>\n",
       "      <td>True</td>\n",
       "    </tr>\n",
       "    <tr>\n",
       "      <th>411</th>\n",
       "      <td>2021-03-24</td>\n",
       "      <td>You can now buy a Tesla with Bitcoin</td>\n",
       "      <td>True</td>\n",
       "    </tr>\n",
       "    <tr>\n",
       "      <th>482</th>\n",
       "      <td>2021-03-13</td>\n",
       "      <td>Why are you so dogematic, they ask</td>\n",
       "      <td>True</td>\n",
       "    </tr>\n",
       "    <tr>\n",
       "      <th>483</th>\n",
       "      <td>2021-03-13</td>\n",
       "      <td>Origin of Doge Day Afternoon:\\nThe ancient Rom...</td>\n",
       "      <td>True</td>\n",
       "    </tr>\n",
       "    <tr>\n",
       "      <th>484</th>\n",
       "      <td>2021-03-13</td>\n",
       "      <td>Doge day afternoon</td>\n",
       "      <td>True</td>\n",
       "    </tr>\n",
       "    <tr>\n",
       "      <th>493</th>\n",
       "      <td>2021-03-12</td>\n",
       "      <td>BTC (Bitcoin) is an anagram of\\nTBC(The Boring...</td>\n",
       "      <td>True</td>\n",
       "    </tr>\n",
       "    <tr>\n",
       "      <th>534</th>\n",
       "      <td>2021-03-06</td>\n",
       "      <td>Doge spelled backwards is Egod</td>\n",
       "      <td>True</td>\n",
       "    </tr>\n",
       "    <tr>\n",
       "      <th>577</th>\n",
       "      <td>2021-03-02</td>\n",
       "      <td>Scammers &amp;amp; crypto should get a room</td>\n",
       "      <td>True</td>\n",
       "    </tr>\n",
       "    <tr>\n",
       "      <th>584</th>\n",
       "      <td>2021-03-01</td>\n",
       "      <td>Doge meme shield (legendary item) https://t.co...</td>\n",
       "      <td>True</td>\n",
       "    </tr>\n",
       "    <tr>\n",
       "      <th>645</th>\n",
       "      <td>2021-02-21</td>\n",
       "      <td>Dojo 4 Doge</td>\n",
       "      <td>True</td>\n",
       "    </tr>\n",
       "    <tr>\n",
       "      <th>650</th>\n",
       "      <td>2021-02-20</td>\n",
       "      <td>Cryptocurrency explained https://t.co/kUXaXx8a1R</td>\n",
       "      <td>True</td>\n",
       "    </tr>\n",
       "    <tr>\n",
       "      <th>652</th>\n",
       "      <td>2021-02-20</td>\n",
       "      <td>Heard a rumor some crypto coin was pegging the...</td>\n",
       "      <td>True</td>\n",
       "    </tr>\n",
       "    <tr>\n",
       "      <th>689</th>\n",
       "      <td>2021-02-14</td>\n",
       "      <td>If major Dogecoin holders sell most of their c...</td>\n",
       "      <td>True</td>\n",
       "    </tr>\n",
       "    <tr>\n",
       "      <th>704</th>\n",
       "      <td>2021-02-11</td>\n",
       "      <td>Frodo was the underdoge,\\nAll thought he would...</td>\n",
       "      <td>True</td>\n",
       "    </tr>\n",
       "    <tr>\n",
       "      <th>712</th>\n",
       "      <td>2021-02-10</td>\n",
       "      <td>Bought some Dogecoin for lil X, so he can be a...</td>\n",
       "      <td>True</td>\n",
       "    </tr>\n",
       "    <tr>\n",
       "      <th>737</th>\n",
       "      <td>2021-02-08</td>\n",
       "      <td>Ð is for Ðogecoin! Instructional video.\\nhttps...</td>\n",
       "      <td>True</td>\n",
       "    </tr>\n",
       "    <tr>\n",
       "      <th>741</th>\n",
       "      <td>2021-02-07</td>\n",
       "      <td>🎶 Who let the Doge out 🎶</td>\n",
       "      <td>True</td>\n",
       "    </tr>\n",
       "    <tr>\n",
       "      <th>764</th>\n",
       "      <td>2021-02-06</td>\n",
       "      <td>The future currency of Earth</td>\n",
       "      <td>True</td>\n",
       "    </tr>\n",
       "    <tr>\n",
       "      <th>788</th>\n",
       "      <td>2021-02-04</td>\n",
       "      <td>No highs, no lows, only Doge</td>\n",
       "      <td>True</td>\n",
       "    </tr>\n",
       "    <tr>\n",
       "      <th>790</th>\n",
       "      <td>2021-02-04</td>\n",
       "      <td>Dogecoin is the people’s crypto</td>\n",
       "      <td>True</td>\n",
       "    </tr>\n",
       "    <tr>\n",
       "      <th>793</th>\n",
       "      <td>2021-02-04</td>\n",
       "      <td>Doge</td>\n",
       "      <td>True</td>\n",
       "    </tr>\n",
       "    <tr>\n",
       "      <th>1043</th>\n",
       "      <td>2021-05-20</td>\n",
       "      <td>How much is that Doge in the window? https://t...</td>\n",
       "      <td>True</td>\n",
       "    </tr>\n",
       "    <tr>\n",
       "      <th>1050</th>\n",
       "      <td>2021-05-19</td>\n",
       "      <td>Credit to our Master of Coin</td>\n",
       "      <td>True</td>\n",
       "    </tr>\n",
       "  </tbody>\n",
       "</table>\n",
       "</div>"
      ],
      "text/plain": [
       "            Date                                              Tweet  \\\n",
       "4     2021-05-13  Working with Doge devs to improve system trans...   \n",
       "6     2021-05-13  To be clear, I strongly believe in crypto, but...   \n",
       "10    2021-05-12        Tesla &amp; Bitcoin https://t.co/YSswJmVZhP   \n",
       "20    2021-05-11                  Do you want Tesla to accept Doge?   \n",
       "30    2021-05-09  SpaceX launching satellite Doge-1 to the moon ...   \n",
       "49    2021-05-07  Cryptocurrency is promising, but please invest...   \n",
       "116   2021-04-28                          The Dogefather\\nSNL May 8   \n",
       "215   2021-04-15   Doge Barking at the Moon https://t.co/QFB81D7zOL   \n",
       "342   2021-04-03  Me in my sick new car\\n(left him the money) ht...   \n",
       "348   2021-04-01  SpaceX is going to put a literal Dogecoin on t...   \n",
       "400   2021-03-25                                    Don’t defy DeFi   \n",
       "409   2021-03-24  Pay by Bitcoin capability available outside US...   \n",
       "410   2021-03-24  Tesla is using only internal &amp; open source...   \n",
       "411   2021-03-24               You can now buy a Tesla with Bitcoin   \n",
       "482   2021-03-13                 Why are you so dogematic, they ask   \n",
       "483   2021-03-13  Origin of Doge Day Afternoon:\\nThe ancient Rom...   \n",
       "484   2021-03-13                                 Doge day afternoon   \n",
       "493   2021-03-12  BTC (Bitcoin) is an anagram of\\nTBC(The Boring...   \n",
       "534   2021-03-06                     Doge spelled backwards is Egod   \n",
       "577   2021-03-02            Scammers &amp; crypto should get a room   \n",
       "584   2021-03-01  Doge meme shield (legendary item) https://t.co...   \n",
       "645   2021-02-21                                        Dojo 4 Doge   \n",
       "650   2021-02-20   Cryptocurrency explained https://t.co/kUXaXx8a1R   \n",
       "652   2021-02-20  Heard a rumor some crypto coin was pegging the...   \n",
       "689   2021-02-14  If major Dogecoin holders sell most of their c...   \n",
       "704   2021-02-11  Frodo was the underdoge,\\nAll thought he would...   \n",
       "712   2021-02-10  Bought some Dogecoin for lil X, so he can be a...   \n",
       "737   2021-02-08  Ð is for Ðogecoin! Instructional video.\\nhttps...   \n",
       "741   2021-02-07                           🎶 Who let the Doge out 🎶   \n",
       "764   2021-02-06                       The future currency of Earth   \n",
       "788   2021-02-04                       No highs, no lows, only Doge   \n",
       "790   2021-02-04                    Dogecoin is the people’s crypto   \n",
       "793   2021-02-04                                               Doge   \n",
       "1043  2021-05-20  How much is that Doge in the window? https://t...   \n",
       "1050  2021-05-19                       Credit to our Master of Coin   \n",
       "\n",
       "      Elon_tweet  \n",
       "4           True  \n",
       "6           True  \n",
       "10          True  \n",
       "20          True  \n",
       "30          True  \n",
       "49          True  \n",
       "116         True  \n",
       "215         True  \n",
       "342         True  \n",
       "348         True  \n",
       "400         True  \n",
       "409         True  \n",
       "410         True  \n",
       "411         True  \n",
       "482         True  \n",
       "483         True  \n",
       "484         True  \n",
       "493         True  \n",
       "534         True  \n",
       "577         True  \n",
       "584         True  \n",
       "645         True  \n",
       "650         True  \n",
       "652         True  \n",
       "689         True  \n",
       "704         True  \n",
       "712         True  \n",
       "737         True  \n",
       "741         True  \n",
       "764         True  \n",
       "788         True  \n",
       "790         True  \n",
       "793         True  \n",
       "1043        True  \n",
       "1050        True  "
      ]
     },
     "execution_count": 42,
     "metadata": {},
     "output_type": "execute_result"
    }
   ],
   "source": [
    "df_elon_true"
   ]
  },
  {
   "cell_type": "markdown",
   "metadata": {},
   "source": [
    "# Table fusion"
   ]
  },
  {
   "cell_type": "code",
   "execution_count": 43,
   "metadata": {},
   "outputs": [
    {
     "data": {
      "text/plain": [
       "Date         datetime64[ns]\n",
       "BTC_price           float64\n",
       "dtype: object"
      ]
     },
     "execution_count": 43,
     "metadata": {},
     "output_type": "execute_result"
    }
   ],
   "source": [
    "df.dtypes"
   ]
  },
  {
   "cell_type": "code",
   "execution_count": 44,
   "metadata": {},
   "outputs": [
    {
     "data": {
      "text/plain": [
       "Date           object\n",
       "DOGE_price    float64\n",
       "dtype: object"
      ]
     },
     "execution_count": 44,
     "metadata": {},
     "output_type": "execute_result"
    }
   ],
   "source": [
    "df_doge.dtypes"
   ]
  },
  {
   "cell_type": "code",
   "execution_count": 45,
   "metadata": {},
   "outputs": [
    {
     "data": {
      "text/plain": [
       "Date          object\n",
       "Tweet         object\n",
       "Elon_tweet      bool\n",
       "dtype: object"
      ]
     },
     "execution_count": 45,
     "metadata": {},
     "output_type": "execute_result"
    }
   ],
   "source": [
    "df_elon_true.dtypes"
   ]
  },
  {
   "cell_type": "code",
   "execution_count": 46,
   "metadata": {},
   "outputs": [
    {
     "data": {
      "text/plain": [
       "Date         datetime64[ns]\n",
       "ETH_price           float64\n",
       "dtype: object"
      ]
     },
     "execution_count": 46,
     "metadata": {},
     "output_type": "execute_result"
    }
   ],
   "source": [
    "df_eth.dtypes"
   ]
  },
  {
   "cell_type": "code",
   "execution_count": 47,
   "metadata": {},
   "outputs": [],
   "source": [
    "#Change date type in elonDF and dogeDF so we can merge them\n",
    "df_elon_true.Date=df_elon_true.Date.astype(dtype='datetime64[ns]')\n",
    "df_elon_true.Tweet=df_elon_true.Tweet.astype(dtype='object')\n",
    "df_doge.Date=df_doge.Date.astype(dtype='datetime64[ns]')"
   ]
  },
  {
   "cell_type": "code",
   "execution_count": 48,
   "metadata": {},
   "outputs": [],
   "source": [
    "#Table merge\n",
    "crypto_df=pd.merge(df, df_doge, 'left', left_on='Date', right_on='Date')"
   ]
  },
  {
   "cell_type": "code",
   "execution_count": 49,
   "metadata": {},
   "outputs": [
    {
     "data": {
      "text/html": [
       "<div>\n",
       "<style scoped>\n",
       "    .dataframe tbody tr th:only-of-type {\n",
       "        vertical-align: middle;\n",
       "    }\n",
       "\n",
       "    .dataframe tbody tr th {\n",
       "        vertical-align: top;\n",
       "    }\n",
       "\n",
       "    .dataframe thead th {\n",
       "        text-align: right;\n",
       "    }\n",
       "</style>\n",
       "<table border=\"1\" class=\"dataframe\">\n",
       "  <thead>\n",
       "    <tr style=\"text-align: right;\">\n",
       "      <th></th>\n",
       "      <th>Date</th>\n",
       "      <th>BTC_price</th>\n",
       "      <th>DOGE_price</th>\n",
       "    </tr>\n",
       "  </thead>\n",
       "  <tbody>\n",
       "    <tr>\n",
       "      <th>0</th>\n",
       "      <td>2021-01-01</td>\n",
       "      <td>29412.84</td>\n",
       "      <td>0.005685</td>\n",
       "    </tr>\n",
       "    <tr>\n",
       "      <th>1</th>\n",
       "      <td>2021-01-02</td>\n",
       "      <td>32225.91</td>\n",
       "      <td>0.010615</td>\n",
       "    </tr>\n",
       "    <tr>\n",
       "      <th>2</th>\n",
       "      <td>2021-01-03</td>\n",
       "      <td>33080.66</td>\n",
       "      <td>0.009771</td>\n",
       "    </tr>\n",
       "    <tr>\n",
       "      <th>3</th>\n",
       "      <td>2021-01-04</td>\n",
       "      <td>32019.99</td>\n",
       "      <td>0.009767</td>\n",
       "    </tr>\n",
       "    <tr>\n",
       "      <th>4</th>\n",
       "      <td>2021-01-05</td>\n",
       "      <td>34030.64</td>\n",
       "      <td>0.009920</td>\n",
       "    </tr>\n",
       "  </tbody>\n",
       "</table>\n",
       "</div>"
      ],
      "text/plain": [
       "        Date  BTC_price  DOGE_price\n",
       "0 2021-01-01   29412.84    0.005685\n",
       "1 2021-01-02   32225.91    0.010615\n",
       "2 2021-01-03   33080.66    0.009771\n",
       "3 2021-01-04   32019.99    0.009767\n",
       "4 2021-01-05   34030.64    0.009920"
      ]
     },
     "execution_count": 49,
     "metadata": {},
     "output_type": "execute_result"
    }
   ],
   "source": [
    "crypto_df.head()"
   ]
  },
  {
   "cell_type": "code",
   "execution_count": 50,
   "metadata": {},
   "outputs": [],
   "source": [
    "#Table merge\n",
    "crypto_df=pd.merge(crypto_df, df_eth, 'left', left_on='Date', right_on='Date')"
   ]
  },
  {
   "cell_type": "code",
   "execution_count": 51,
   "metadata": {},
   "outputs": [
    {
     "data": {
      "text/html": [
       "<div>\n",
       "<style scoped>\n",
       "    .dataframe tbody tr th:only-of-type {\n",
       "        vertical-align: middle;\n",
       "    }\n",
       "\n",
       "    .dataframe tbody tr th {\n",
       "        vertical-align: top;\n",
       "    }\n",
       "\n",
       "    .dataframe thead th {\n",
       "        text-align: right;\n",
       "    }\n",
       "</style>\n",
       "<table border=\"1\" class=\"dataframe\">\n",
       "  <thead>\n",
       "    <tr style=\"text-align: right;\">\n",
       "      <th></th>\n",
       "      <th>Date</th>\n",
       "      <th>BTC_price</th>\n",
       "      <th>DOGE_price</th>\n",
       "      <th>ETH_price</th>\n",
       "    </tr>\n",
       "  </thead>\n",
       "  <tbody>\n",
       "    <tr>\n",
       "      <th>0</th>\n",
       "      <td>2021-01-01</td>\n",
       "      <td>29412.84</td>\n",
       "      <td>0.005685</td>\n",
       "      <td>730.99</td>\n",
       "    </tr>\n",
       "    <tr>\n",
       "      <th>1</th>\n",
       "      <td>2021-01-02</td>\n",
       "      <td>32225.91</td>\n",
       "      <td>0.010615</td>\n",
       "      <td>775.30</td>\n",
       "    </tr>\n",
       "    <tr>\n",
       "      <th>2</th>\n",
       "      <td>2021-01-03</td>\n",
       "      <td>33080.66</td>\n",
       "      <td>0.009771</td>\n",
       "      <td>980.44</td>\n",
       "    </tr>\n",
       "    <tr>\n",
       "      <th>3</th>\n",
       "      <td>2021-01-04</td>\n",
       "      <td>32019.99</td>\n",
       "      <td>0.009767</td>\n",
       "      <td>1042.38</td>\n",
       "    </tr>\n",
       "    <tr>\n",
       "      <th>4</th>\n",
       "      <td>2021-01-05</td>\n",
       "      <td>34030.64</td>\n",
       "      <td>0.009920</td>\n",
       "      <td>1103.73</td>\n",
       "    </tr>\n",
       "  </tbody>\n",
       "</table>\n",
       "</div>"
      ],
      "text/plain": [
       "        Date  BTC_price  DOGE_price  ETH_price\n",
       "0 2021-01-01   29412.84    0.005685     730.99\n",
       "1 2021-01-02   32225.91    0.010615     775.30\n",
       "2 2021-01-03   33080.66    0.009771     980.44\n",
       "3 2021-01-04   32019.99    0.009767    1042.38\n",
       "4 2021-01-05   34030.64    0.009920    1103.73"
      ]
     },
     "execution_count": 51,
     "metadata": {},
     "output_type": "execute_result"
    }
   ],
   "source": [
    "crypto_df.head()"
   ]
  },
  {
   "cell_type": "code",
   "execution_count": 52,
   "metadata": {},
   "outputs": [],
   "source": [
    "#Table merge\n",
    "crypto_df=pd.merge(crypto_df, df_elon_true, 'left', left_on='Date', right_on='Date')"
   ]
  },
  {
   "cell_type": "code",
   "execution_count": 53,
   "metadata": {},
   "outputs": [
    {
     "data": {
      "text/html": [
       "<div>\n",
       "<style scoped>\n",
       "    .dataframe tbody tr th:only-of-type {\n",
       "        vertical-align: middle;\n",
       "    }\n",
       "\n",
       "    .dataframe tbody tr th {\n",
       "        vertical-align: top;\n",
       "    }\n",
       "\n",
       "    .dataframe thead th {\n",
       "        text-align: right;\n",
       "    }\n",
       "</style>\n",
       "<table border=\"1\" class=\"dataframe\">\n",
       "  <thead>\n",
       "    <tr style=\"text-align: right;\">\n",
       "      <th></th>\n",
       "      <th>Date</th>\n",
       "      <th>BTC_price</th>\n",
       "      <th>DOGE_price</th>\n",
       "      <th>ETH_price</th>\n",
       "      <th>Tweet</th>\n",
       "      <th>Elon_tweet</th>\n",
       "    </tr>\n",
       "  </thead>\n",
       "  <tbody>\n",
       "    <tr>\n",
       "      <th>0</th>\n",
       "      <td>2021-01-01</td>\n",
       "      <td>29412.84</td>\n",
       "      <td>0.005685</td>\n",
       "      <td>730.99</td>\n",
       "      <td>NaN</td>\n",
       "      <td>NaN</td>\n",
       "    </tr>\n",
       "    <tr>\n",
       "      <th>1</th>\n",
       "      <td>2021-01-02</td>\n",
       "      <td>32225.91</td>\n",
       "      <td>0.010615</td>\n",
       "      <td>775.30</td>\n",
       "      <td>NaN</td>\n",
       "      <td>NaN</td>\n",
       "    </tr>\n",
       "    <tr>\n",
       "      <th>2</th>\n",
       "      <td>2021-01-03</td>\n",
       "      <td>33080.66</td>\n",
       "      <td>0.009771</td>\n",
       "      <td>980.44</td>\n",
       "      <td>NaN</td>\n",
       "      <td>NaN</td>\n",
       "    </tr>\n",
       "    <tr>\n",
       "      <th>3</th>\n",
       "      <td>2021-01-04</td>\n",
       "      <td>32019.99</td>\n",
       "      <td>0.009767</td>\n",
       "      <td>1042.38</td>\n",
       "      <td>NaN</td>\n",
       "      <td>NaN</td>\n",
       "    </tr>\n",
       "    <tr>\n",
       "      <th>4</th>\n",
       "      <td>2021-01-05</td>\n",
       "      <td>34030.64</td>\n",
       "      <td>0.009920</td>\n",
       "      <td>1103.73</td>\n",
       "      <td>NaN</td>\n",
       "      <td>NaN</td>\n",
       "    </tr>\n",
       "  </tbody>\n",
       "</table>\n",
       "</div>"
      ],
      "text/plain": [
       "        Date  BTC_price  DOGE_price  ETH_price Tweet Elon_tweet\n",
       "0 2021-01-01   29412.84    0.005685     730.99   NaN        NaN\n",
       "1 2021-01-02   32225.91    0.010615     775.30   NaN        NaN\n",
       "2 2021-01-03   33080.66    0.009771     980.44   NaN        NaN\n",
       "3 2021-01-04   32019.99    0.009767    1042.38   NaN        NaN\n",
       "4 2021-01-05   34030.64    0.009920    1103.73   NaN        NaN"
      ]
     },
     "execution_count": 53,
     "metadata": {},
     "output_type": "execute_result"
    }
   ],
   "source": [
    "crypto_df.head()"
   ]
  },
  {
   "cell_type": "code",
   "execution_count": 54,
   "metadata": {},
   "outputs": [],
   "source": [
    "#I decide to keep only one tweet per day so data is cleaner\n",
    "\n",
    "crypto_tweets=crypto_df.drop_duplicates(subset='Date', keep=\"last\")"
   ]
  },
  {
   "cell_type": "code",
   "execution_count": 55,
   "metadata": {},
   "outputs": [
    {
     "name": "stdout",
     "output_type": "stream",
     "text": [
      "{nan, True}\n"
     ]
    }
   ],
   "source": [
    "print(set(crypto_tweets['Elon_tweet']))\n"
   ]
  },
  {
   "cell_type": "code",
   "execution_count": 56,
   "metadata": {},
   "outputs": [
    {
     "name": "stderr",
     "output_type": "stream",
     "text": [
      "/Users/mikel/opt/anaconda3/lib/python3.8/site-packages/pandas/core/generic.py:5168: SettingWithCopyWarning: \n",
      "A value is trying to be set on a copy of a slice from a DataFrame.\n",
      "Try using .loc[row_indexer,col_indexer] = value instead\n",
      "\n",
      "See the caveats in the documentation: https://pandas.pydata.org/pandas-docs/stable/user_guide/indexing.html#returning-a-view-versus-a-copy\n",
      "  self[name] = value\n"
     ]
    }
   ],
   "source": [
    "crypto_tweets.Elon_tweet=crypto_tweets.Elon_tweet.replace(to_replace =(True), value = 'Yes')"
   ]
  },
  {
   "cell_type": "code",
   "execution_count": 57,
   "metadata": {},
   "outputs": [],
   "source": [
    "crypto_tweets.Elon_tweet=crypto_tweets.Elon_tweet.fillna('No')"
   ]
  },
  {
   "cell_type": "code",
   "execution_count": 58,
   "metadata": {},
   "outputs": [
    {
     "data": {
      "text/html": [
       "<div>\n",
       "<style scoped>\n",
       "    .dataframe tbody tr th:only-of-type {\n",
       "        vertical-align: middle;\n",
       "    }\n",
       "\n",
       "    .dataframe tbody tr th {\n",
       "        vertical-align: top;\n",
       "    }\n",
       "\n",
       "    .dataframe thead th {\n",
       "        text-align: right;\n",
       "    }\n",
       "</style>\n",
       "<table border=\"1\" class=\"dataframe\">\n",
       "  <thead>\n",
       "    <tr style=\"text-align: right;\">\n",
       "      <th></th>\n",
       "      <th>Date</th>\n",
       "      <th>BTC_price</th>\n",
       "      <th>DOGE_price</th>\n",
       "      <th>ETH_price</th>\n",
       "      <th>Tweet</th>\n",
       "      <th>Elon_tweet</th>\n",
       "    </tr>\n",
       "  </thead>\n",
       "  <tbody>\n",
       "    <tr>\n",
       "      <th>36</th>\n",
       "      <td>2021-02-04</td>\n",
       "      <td>36975.00</td>\n",
       "      <td>0.053289</td>\n",
       "      <td>1597.55</td>\n",
       "      <td>Doge</td>\n",
       "      <td>Yes</td>\n",
       "    </tr>\n",
       "    <tr>\n",
       "      <th>38</th>\n",
       "      <td>2021-02-06</td>\n",
       "      <td>39265.43</td>\n",
       "      <td>0.057595</td>\n",
       "      <td>1679.77</td>\n",
       "      <td>The future currency of Earth</td>\n",
       "      <td>Yes</td>\n",
       "    </tr>\n",
       "    <tr>\n",
       "      <th>39</th>\n",
       "      <td>2021-02-07</td>\n",
       "      <td>38871.42</td>\n",
       "      <td>0.078782</td>\n",
       "      <td>1615.32</td>\n",
       "      <td>🎶 Who let the Doge out 🎶</td>\n",
       "      <td>Yes</td>\n",
       "    </tr>\n",
       "    <tr>\n",
       "      <th>40</th>\n",
       "      <td>2021-02-08</td>\n",
       "      <td>46448.10</td>\n",
       "      <td>0.078825</td>\n",
       "      <td>1752.98</td>\n",
       "      <td>Ð is for Ðogecoin! Instructional video.\\nhttps...</td>\n",
       "      <td>Yes</td>\n",
       "    </tr>\n",
       "    <tr>\n",
       "      <th>42</th>\n",
       "      <td>2021-02-10</td>\n",
       "      <td>44850.00</td>\n",
       "      <td>0.072896</td>\n",
       "      <td>1742.93</td>\n",
       "      <td>Bought some Dogecoin for lil X, so he can be a...</td>\n",
       "      <td>Yes</td>\n",
       "    </tr>\n",
       "    <tr>\n",
       "      <th>43</th>\n",
       "      <td>2021-02-11</td>\n",
       "      <td>47997.91</td>\n",
       "      <td>0.069676</td>\n",
       "      <td>1787.32</td>\n",
       "      <td>Frodo was the underdoge,\\nAll thought he would...</td>\n",
       "      <td>Yes</td>\n",
       "    </tr>\n",
       "    <tr>\n",
       "      <th>46</th>\n",
       "      <td>2021-02-14</td>\n",
       "      <td>48680.69</td>\n",
       "      <td>0.062537</td>\n",
       "      <td>1803.75</td>\n",
       "      <td>If major Dogecoin holders sell most of their c...</td>\n",
       "      <td>Yes</td>\n",
       "    </tr>\n",
       "    <tr>\n",
       "      <th>53</th>\n",
       "      <td>2021-02-20</td>\n",
       "      <td>55923.52</td>\n",
       "      <td>0.054384</td>\n",
       "      <td>1915.46</td>\n",
       "      <td>Heard a rumor some crypto coin was pegging the...</td>\n",
       "      <td>Yes</td>\n",
       "    </tr>\n",
       "    <tr>\n",
       "      <th>54</th>\n",
       "      <td>2021-02-21</td>\n",
       "      <td>57489.16</td>\n",
       "      <td>0.055980</td>\n",
       "      <td>1935.57</td>\n",
       "      <td>Dojo 4 Doge</td>\n",
       "      <td>Yes</td>\n",
       "    </tr>\n",
       "    <tr>\n",
       "      <th>62</th>\n",
       "      <td>2021-03-01</td>\n",
       "      <td>49639.40</td>\n",
       "      <td>0.050599</td>\n",
       "      <td>1571.82</td>\n",
       "      <td>Doge meme shield (legendary item) https://t.co...</td>\n",
       "      <td>Yes</td>\n",
       "    </tr>\n",
       "    <tr>\n",
       "      <th>63</th>\n",
       "      <td>2021-03-02</td>\n",
       "      <td>48511.60</td>\n",
       "      <td>0.050262</td>\n",
       "      <td>1488.34</td>\n",
       "      <td>Scammers &amp;amp; crypto should get a room</td>\n",
       "      <td>Yes</td>\n",
       "    </tr>\n",
       "    <tr>\n",
       "      <th>67</th>\n",
       "      <td>2021-03-06</td>\n",
       "      <td>48909.84</td>\n",
       "      <td>0.050984</td>\n",
       "      <td>1651.83</td>\n",
       "      <td>Doge spelled backwards is Egod</td>\n",
       "      <td>Yes</td>\n",
       "    </tr>\n",
       "    <tr>\n",
       "      <th>73</th>\n",
       "      <td>2021-03-12</td>\n",
       "      <td>57225.91</td>\n",
       "      <td>0.055349</td>\n",
       "      <td>1767.79</td>\n",
       "      <td>BTC (Bitcoin) is an anagram of\\nTBC(The Boring...</td>\n",
       "      <td>Yes</td>\n",
       "    </tr>\n",
       "    <tr>\n",
       "      <th>76</th>\n",
       "      <td>2021-03-13</td>\n",
       "      <td>61178.50</td>\n",
       "      <td>0.062432</td>\n",
       "      <td>1921.61</td>\n",
       "      <td>Doge day afternoon</td>\n",
       "      <td>Yes</td>\n",
       "    </tr>\n",
       "    <tr>\n",
       "      <th>89</th>\n",
       "      <td>2021-03-24</td>\n",
       "      <td>52276.16</td>\n",
       "      <td>0.051702</td>\n",
       "      <td>1581.79</td>\n",
       "      <td>You can now buy a Tesla with Bitcoin</td>\n",
       "      <td>Yes</td>\n",
       "    </tr>\n",
       "    <tr>\n",
       "      <th>90</th>\n",
       "      <td>2021-03-25</td>\n",
       "      <td>51325.01</td>\n",
       "      <td>0.051448</td>\n",
       "      <td>1587.08</td>\n",
       "      <td>Don’t defy DeFi</td>\n",
       "      <td>Yes</td>\n",
       "    </tr>\n",
       "    <tr>\n",
       "      <th>97</th>\n",
       "      <td>2021-04-01</td>\n",
       "      <td>58726.48</td>\n",
       "      <td>0.061986</td>\n",
       "      <td>1968.38</td>\n",
       "      <td>SpaceX is going to put a literal Dogecoin on t...</td>\n",
       "      <td>Yes</td>\n",
       "    </tr>\n",
       "    <tr>\n",
       "      <th>99</th>\n",
       "      <td>2021-04-03</td>\n",
       "      <td>57094.34</td>\n",
       "      <td>0.055804</td>\n",
       "      <td>2009.25</td>\n",
       "      <td>Me in my sick new car\\n(left him the money) ht...</td>\n",
       "      <td>Yes</td>\n",
       "    </tr>\n",
       "    <tr>\n",
       "      <th>111</th>\n",
       "      <td>2021-04-15</td>\n",
       "      <td>63229.04</td>\n",
       "      <td>0.182207</td>\n",
       "      <td>2517.03</td>\n",
       "      <td>Doge Barking at the Moon https://t.co/QFB81D7zOL</td>\n",
       "      <td>Yes</td>\n",
       "    </tr>\n",
       "    <tr>\n",
       "      <th>124</th>\n",
       "      <td>2021-04-28</td>\n",
       "      <td>54894.03</td>\n",
       "      <td>0.323682</td>\n",
       "      <td>2751.59</td>\n",
       "      <td>The Dogefather\\nSNL May 8</td>\n",
       "      <td>Yes</td>\n",
       "    </tr>\n",
       "    <tr>\n",
       "      <th>133</th>\n",
       "      <td>2021-05-07</td>\n",
       "      <td>57380.39</td>\n",
       "      <td>0.684777</td>\n",
       "      <td>3484.70</td>\n",
       "      <td>Cryptocurrency is promising, but please invest...</td>\n",
       "      <td>Yes</td>\n",
       "    </tr>\n",
       "    <tr>\n",
       "      <th>135</th>\n",
       "      <td>2021-05-09</td>\n",
       "      <td>58312.57</td>\n",
       "      <td>0.570070</td>\n",
       "      <td>3928.44</td>\n",
       "      <td>SpaceX launching satellite Doge-1 to the moon ...</td>\n",
       "      <td>Yes</td>\n",
       "    </tr>\n",
       "    <tr>\n",
       "      <th>137</th>\n",
       "      <td>2021-05-11</td>\n",
       "      <td>56753.19</td>\n",
       "      <td>0.495231</td>\n",
       "      <td>4179.76</td>\n",
       "      <td>Do you want Tesla to accept Doge?</td>\n",
       "      <td>Yes</td>\n",
       "    </tr>\n",
       "    <tr>\n",
       "      <th>138</th>\n",
       "      <td>2021-05-12</td>\n",
       "      <td>49498.77</td>\n",
       "      <td>0.385376</td>\n",
       "      <td>3826.37</td>\n",
       "      <td>Tesla &amp;amp; Bitcoin https://t.co/YSswJmVZhP</td>\n",
       "      <td>Yes</td>\n",
       "    </tr>\n",
       "    <tr>\n",
       "      <th>140</th>\n",
       "      <td>2021-05-13</td>\n",
       "      <td>49690.11</td>\n",
       "      <td>0.490374</td>\n",
       "      <td>3719.23</td>\n",
       "      <td>To be clear, I strongly believe in crypto, but...</td>\n",
       "      <td>Yes</td>\n",
       "    </tr>\n",
       "    <tr>\n",
       "      <th>146</th>\n",
       "      <td>2021-05-19</td>\n",
       "      <td>36731.75</td>\n",
       "      <td>0.333123</td>\n",
       "      <td>2443.91</td>\n",
       "      <td>Credit to our Master of Coin</td>\n",
       "      <td>Yes</td>\n",
       "    </tr>\n",
       "    <tr>\n",
       "      <th>147</th>\n",
       "      <td>2021-05-20</td>\n",
       "      <td>40623.33</td>\n",
       "      <td>0.400194</td>\n",
       "      <td>2775.07</td>\n",
       "      <td>How much is that Doge in the window? https://t...</td>\n",
       "      <td>Yes</td>\n",
       "    </tr>\n",
       "  </tbody>\n",
       "</table>\n",
       "</div>"
      ],
      "text/plain": [
       "          Date  BTC_price  DOGE_price  ETH_price  \\\n",
       "36  2021-02-04   36975.00    0.053289    1597.55   \n",
       "38  2021-02-06   39265.43    0.057595    1679.77   \n",
       "39  2021-02-07   38871.42    0.078782    1615.32   \n",
       "40  2021-02-08   46448.10    0.078825    1752.98   \n",
       "42  2021-02-10   44850.00    0.072896    1742.93   \n",
       "43  2021-02-11   47997.91    0.069676    1787.32   \n",
       "46  2021-02-14   48680.69    0.062537    1803.75   \n",
       "53  2021-02-20   55923.52    0.054384    1915.46   \n",
       "54  2021-02-21   57489.16    0.055980    1935.57   \n",
       "62  2021-03-01   49639.40    0.050599    1571.82   \n",
       "63  2021-03-02   48511.60    0.050262    1488.34   \n",
       "67  2021-03-06   48909.84    0.050984    1651.83   \n",
       "73  2021-03-12   57225.91    0.055349    1767.79   \n",
       "76  2021-03-13   61178.50    0.062432    1921.61   \n",
       "89  2021-03-24   52276.16    0.051702    1581.79   \n",
       "90  2021-03-25   51325.01    0.051448    1587.08   \n",
       "97  2021-04-01   58726.48    0.061986    1968.38   \n",
       "99  2021-04-03   57094.34    0.055804    2009.25   \n",
       "111 2021-04-15   63229.04    0.182207    2517.03   \n",
       "124 2021-04-28   54894.03    0.323682    2751.59   \n",
       "133 2021-05-07   57380.39    0.684777    3484.70   \n",
       "135 2021-05-09   58312.57    0.570070    3928.44   \n",
       "137 2021-05-11   56753.19    0.495231    4179.76   \n",
       "138 2021-05-12   49498.77    0.385376    3826.37   \n",
       "140 2021-05-13   49690.11    0.490374    3719.23   \n",
       "146 2021-05-19   36731.75    0.333123    2443.91   \n",
       "147 2021-05-20   40623.33    0.400194    2775.07   \n",
       "\n",
       "                                                 Tweet Elon_tweet  \n",
       "36                                                Doge        Yes  \n",
       "38                        The future currency of Earth        Yes  \n",
       "39                            🎶 Who let the Doge out 🎶        Yes  \n",
       "40   Ð is for Ðogecoin! Instructional video.\\nhttps...        Yes  \n",
       "42   Bought some Dogecoin for lil X, so he can be a...        Yes  \n",
       "43   Frodo was the underdoge,\\nAll thought he would...        Yes  \n",
       "46   If major Dogecoin holders sell most of their c...        Yes  \n",
       "53   Heard a rumor some crypto coin was pegging the...        Yes  \n",
       "54                                         Dojo 4 Doge        Yes  \n",
       "62   Doge meme shield (legendary item) https://t.co...        Yes  \n",
       "63             Scammers &amp; crypto should get a room        Yes  \n",
       "67                      Doge spelled backwards is Egod        Yes  \n",
       "73   BTC (Bitcoin) is an anagram of\\nTBC(The Boring...        Yes  \n",
       "76                                  Doge day afternoon        Yes  \n",
       "89                You can now buy a Tesla with Bitcoin        Yes  \n",
       "90                                     Don’t defy DeFi        Yes  \n",
       "97   SpaceX is going to put a literal Dogecoin on t...        Yes  \n",
       "99   Me in my sick new car\\n(left him the money) ht...        Yes  \n",
       "111   Doge Barking at the Moon https://t.co/QFB81D7zOL        Yes  \n",
       "124                          The Dogefather\\nSNL May 8        Yes  \n",
       "133  Cryptocurrency is promising, but please invest...        Yes  \n",
       "135  SpaceX launching satellite Doge-1 to the moon ...        Yes  \n",
       "137                  Do you want Tesla to accept Doge?        Yes  \n",
       "138        Tesla &amp; Bitcoin https://t.co/YSswJmVZhP        Yes  \n",
       "140  To be clear, I strongly believe in crypto, but...        Yes  \n",
       "146                       Credit to our Master of Coin        Yes  \n",
       "147  How much is that Doge in the window? https://t...        Yes  "
      ]
     },
     "execution_count": 58,
     "metadata": {},
     "output_type": "execute_result"
    }
   ],
   "source": [
    "crypto_tweets.loc[crypto_tweets['Elon_tweet'] == 'Yes']"
   ]
  },
  {
   "cell_type": "code",
   "execution_count": 59,
   "metadata": {},
   "outputs": [],
   "source": [
    "crypto_tweets.to_excel(\"crypto_tweets.xlsx\", sheet_name='Crypto_tweets')"
   ]
  },
  {
   "cell_type": "code",
   "execution_count": 80,
   "metadata": {},
   "outputs": [
    {
     "data": {
      "text/html": [
       "<div>\n",
       "<style scoped>\n",
       "    .dataframe tbody tr th:only-of-type {\n",
       "        vertical-align: middle;\n",
       "    }\n",
       "\n",
       "    .dataframe tbody tr th {\n",
       "        vertical-align: top;\n",
       "    }\n",
       "\n",
       "    .dataframe thead th {\n",
       "        text-align: right;\n",
       "    }\n",
       "</style>\n",
       "<table border=\"1\" class=\"dataframe\">\n",
       "  <thead>\n",
       "    <tr style=\"text-align: right;\">\n",
       "      <th></th>\n",
       "      <th>Date</th>\n",
       "      <th>BTC_price</th>\n",
       "      <th>DOGE_price</th>\n",
       "      <th>ETH_price</th>\n",
       "      <th>Tweet</th>\n",
       "      <th>Elon_tweet</th>\n",
       "    </tr>\n",
       "  </thead>\n",
       "  <tbody>\n",
       "    <tr>\n",
       "      <th>0</th>\n",
       "      <td>2021-01-01</td>\n",
       "      <td>29412.84</td>\n",
       "      <td>0.005685</td>\n",
       "      <td>730.99</td>\n",
       "      <td>NaN</td>\n",
       "      <td>No</td>\n",
       "    </tr>\n",
       "    <tr>\n",
       "      <th>1</th>\n",
       "      <td>2021-01-02</td>\n",
       "      <td>32225.91</td>\n",
       "      <td>0.010615</td>\n",
       "      <td>775.30</td>\n",
       "      <td>NaN</td>\n",
       "      <td>No</td>\n",
       "    </tr>\n",
       "    <tr>\n",
       "      <th>2</th>\n",
       "      <td>2021-01-03</td>\n",
       "      <td>33080.66</td>\n",
       "      <td>0.009771</td>\n",
       "      <td>980.44</td>\n",
       "      <td>NaN</td>\n",
       "      <td>No</td>\n",
       "    </tr>\n",
       "    <tr>\n",
       "      <th>3</th>\n",
       "      <td>2021-01-04</td>\n",
       "      <td>32019.99</td>\n",
       "      <td>0.009767</td>\n",
       "      <td>1042.38</td>\n",
       "      <td>NaN</td>\n",
       "      <td>No</td>\n",
       "    </tr>\n",
       "    <tr>\n",
       "      <th>4</th>\n",
       "      <td>2021-01-05</td>\n",
       "      <td>34030.64</td>\n",
       "      <td>0.009920</td>\n",
       "      <td>1103.73</td>\n",
       "      <td>NaN</td>\n",
       "      <td>No</td>\n",
       "    </tr>\n",
       "    <tr>\n",
       "      <th>...</th>\n",
       "      <td>...</td>\n",
       "      <td>...</td>\n",
       "      <td>...</td>\n",
       "      <td>...</td>\n",
       "      <td>...</td>\n",
       "      <td>...</td>\n",
       "    </tr>\n",
       "    <tr>\n",
       "      <th>144</th>\n",
       "      <td>2021-05-17</td>\n",
       "      <td>43580.50</td>\n",
       "      <td>0.487892</td>\n",
       "      <td>3283.32</td>\n",
       "      <td>NaN</td>\n",
       "      <td>No</td>\n",
       "    </tr>\n",
       "    <tr>\n",
       "      <th>145</th>\n",
       "      <td>2021-05-18</td>\n",
       "      <td>42857.15</td>\n",
       "      <td>0.476115</td>\n",
       "      <td>3375.96</td>\n",
       "      <td>NaN</td>\n",
       "      <td>No</td>\n",
       "    </tr>\n",
       "    <tr>\n",
       "      <th>146</th>\n",
       "      <td>2021-05-19</td>\n",
       "      <td>36731.75</td>\n",
       "      <td>0.333123</td>\n",
       "      <td>2443.91</td>\n",
       "      <td>Credit to our Master of Coin</td>\n",
       "      <td>Yes</td>\n",
       "    </tr>\n",
       "    <tr>\n",
       "      <th>147</th>\n",
       "      <td>2021-05-20</td>\n",
       "      <td>40623.33</td>\n",
       "      <td>0.400194</td>\n",
       "      <td>2775.07</td>\n",
       "      <td>How much is that Doge in the window? https://t...</td>\n",
       "      <td>Yes</td>\n",
       "    </tr>\n",
       "    <tr>\n",
       "      <th>148</th>\n",
       "      <td>2021-05-21</td>\n",
       "      <td>39710.60</td>\n",
       "      <td>0.390457</td>\n",
       "      <td>2662.08</td>\n",
       "      <td>NaN</td>\n",
       "      <td>No</td>\n",
       "    </tr>\n",
       "  </tbody>\n",
       "</table>\n",
       "<p>141 rows × 6 columns</p>\n",
       "</div>"
      ],
      "text/plain": [
       "          Date  BTC_price  DOGE_price  ETH_price  \\\n",
       "0   2021-01-01   29412.84    0.005685     730.99   \n",
       "1   2021-01-02   32225.91    0.010615     775.30   \n",
       "2   2021-01-03   33080.66    0.009771     980.44   \n",
       "3   2021-01-04   32019.99    0.009767    1042.38   \n",
       "4   2021-01-05   34030.64    0.009920    1103.73   \n",
       "..         ...        ...         ...        ...   \n",
       "144 2021-05-17   43580.50    0.487892    3283.32   \n",
       "145 2021-05-18   42857.15    0.476115    3375.96   \n",
       "146 2021-05-19   36731.75    0.333123    2443.91   \n",
       "147 2021-05-20   40623.33    0.400194    2775.07   \n",
       "148 2021-05-21   39710.60    0.390457    2662.08   \n",
       "\n",
       "                                                 Tweet Elon_tweet  \n",
       "0                                                  NaN         No  \n",
       "1                                                  NaN         No  \n",
       "2                                                  NaN         No  \n",
       "3                                                  NaN         No  \n",
       "4                                                  NaN         No  \n",
       "..                                                 ...        ...  \n",
       "144                                                NaN         No  \n",
       "145                                                NaN         No  \n",
       "146                       Credit to our Master of Coin        Yes  \n",
       "147  How much is that Doge in the window? https://t...        Yes  \n",
       "148                                                NaN         No  \n",
       "\n",
       "[141 rows x 6 columns]"
      ]
     },
     "execution_count": 80,
     "metadata": {},
     "output_type": "execute_result"
    }
   ],
   "source": [
    "crypto_tweets"
   ]
  },
  {
   "cell_type": "markdown",
   "metadata": {},
   "source": [
    "# Cointegration for BTC and DOGE"
   ]
  },
  {
   "cell_type": "code",
   "execution_count": 61,
   "metadata": {},
   "outputs": [],
   "source": [
    "from pandas.plotting import register_matplotlib_converters\n",
    "register_matplotlib_converters()"
   ]
  },
  {
   "cell_type": "code",
   "execution_count": 62,
   "metadata": {},
   "outputs": [],
   "source": [
    "import matplotlib.pyplot as plt"
   ]
  },
  {
   "cell_type": "code",
   "execution_count": 64,
   "metadata": {},
   "outputs": [
    {
     "data": {
      "image/png": "[encoded data removed]",
      "text/plain": [
       "<Figure size 432x288 with 2 Axes>"
      ]
     },
     "metadata": {
      "needs_background": "light"
     },
     "output_type": "display_data"
    }
   ],
   "source": [
    "plt.subplot(2,1,1)\n",
    "plt.plot(crypto_tweets.BTC_price, label='BTC')\n",
    "plt.plot(crypto_tweets.DOGE_price, label='DOGE')\n",
    "plt.legend(loc='best', fontsize='small')\n",
    "\n",
    "plt.subplot(2,1,2)\n",
    "plt.plot(crypto_tweets.BTC_price - crypto_tweets.DOGE_price, label ='Spread')\n",
    "plt.legend(loc='best', fontsize='small')\n",
    "plt.axhline(y=0, linestyle= '--', color = 'k')\n",
    "plt.show()"
   ]
  },
  {
   "cell_type": "code",
   "execution_count": 65,
   "metadata": {},
   "outputs": [],
   "source": [
    "from statsmodels.tsa.stattools import adfuller"
   ]
  },
  {
   "cell_type": "code",
   "execution_count": 66,
   "metadata": {},
   "outputs": [
    {
     "name": "stdout",
     "output_type": "stream",
     "text": [
      "The P value for the ADF test on BTC is  0.31850977399508484\n",
      "The P value for the ADF test on DOGE is  0.998622180976128\n",
      "The P value for the ADF test on Spread is  0.3185131868429118\n"
     ]
    }
   ],
   "source": [
    "result_btc=adfuller(crypto_tweets.BTC_price)\n",
    "print('The P value for the ADF test on BTC is ', result_btc[1])\n",
    "result_doge=adfuller(crypto_tweets.DOGE_price)\n",
    "print('The P value for the ADF test on DOGE is ', result_doge[1])\n",
    "result_spread=adfuller(crypto_tweets.BTC_price -crypto_tweets.DOGE_price)\n",
    "print('The P value for the ADF test on Spread is ', result_spread[1])"
   ]
  },
  {
   "cell_type": "markdown",
   "metadata": {},
   "source": [
    "# Cointegration for ETH and BTC"
   ]
  },
  {
   "cell_type": "code",
   "execution_count": 67,
   "metadata": {},
   "outputs": [
    {
     "data": {
      "image/png": "[encoded data removed]",
      "text/plain": [
       "<Figure size 432x288 with 2 Axes>"
      ]
     },
     "metadata": {
      "needs_background": "light"
     },
     "output_type": "display_data"
    }
   ],
   "source": [
    "plt.subplot(2,1,1)\n",
    "plt.plot(crypto_tweets.BTC_price, label='BTC')\n",
    "plt.plot(crypto_tweets.ETH_price, label='ETH')\n",
    "plt.legend(loc='best', fontsize='small')\n",
    "\n",
    "plt.subplot(2,1,2)\n",
    "plt.plot(crypto_tweets.BTC_price - crypto_tweets.ETH_price, label ='Spread')\n",
    "plt.legend(loc='best', fontsize='small')\n",
    "plt.axhline(y=0, linestyle= '--', color = 'k')\n",
    "plt.show()"
   ]
  },
  {
   "cell_type": "code",
   "execution_count": 68,
   "metadata": {},
   "outputs": [
    {
     "name": "stdout",
     "output_type": "stream",
     "text": [
      "The P value for the ADF test on BTC is  0.31850977399508484\n",
      "The P value for the ADF test on DOGE is  0.7969222691772057\n",
      "The P value for the ADF test on Spread is  0.34384534377543874\n"
     ]
    }
   ],
   "source": [
    "result_btc=adfuller(crypto_tweets.BTC_price)\n",
    "print('The P value for the ADF test on BTC is ', result_btc[1])\n",
    "result_doge=adfuller(crypto_tweets.ETH_price)\n",
    "print('The P value for the ADF test on DOGE is ', result_doge[1])\n",
    "result_spread=adfuller(crypto_tweets.BTC_price -crypto_tweets.ETH_price)\n",
    "print('The P value for the ADF test on Spread is ', result_spread[1])"
   ]
  },
  {
   "cell_type": "markdown",
   "metadata": {},
   "source": [
    "# Cointegration for ETH and BTC"
   ]
  },
  {
   "cell_type": "code",
   "execution_count": 74,
   "metadata": {},
   "outputs": [
    {
     "data": {
      "image/png": "[encoded data removed]",
      "text/plain": [
       "<Figure size 432x288 with 2 Axes>"
      ]
     },
     "metadata": {
      "needs_background": "light"
     },
     "output_type": "display_data"
    }
   ],
   "source": [
    "plt.subplot(2,1,1)\n",
    "plt.plot(crypto_tweets.DOGE_price, label='DOGE')\n",
    "plt.plot(crypto_tweets.ETH_price, label='ETH')\n",
    "plt.legend(loc='best', fontsize='small')\n",
    "\n",
    "plt.subplot(2,1,2)\n",
    "plt.plot(crypto_tweets.BTC_price - crypto_tweets.DOGE_price, label ='Spread')\n",
    "plt.legend(loc='best', fontsize='small')\n",
    "plt.axhline(y=0, linestyle= '--', color = 'k')\n",
    "plt.show()"
   ]
  },
  {
   "cell_type": "code",
   "execution_count": 75,
   "metadata": {},
   "outputs": [
    {
     "name": "stdout",
     "output_type": "stream",
     "text": [
      "The P value for the ADF test on ETH is  0.7969222691772057\n",
      "The P value for the ADF test on DOGE is  0.998622180976128\n",
      "The P value for the ADF test on Spread is  0.7969183064927543\n"
     ]
    }
   ],
   "source": [
    "result_eth=adfuller(crypto_tweets.ETH_price)\n",
    "print('The P value for the ADF test on ETH is ', result_eth[1])\n",
    "result_doge=adfuller(crypto_tweets.DOGE_price)\n",
    "print('The P value for the ADF test on DOGE is ', result_doge[1])\n",
    "result_spread=adfuller(crypto_tweets.DOGE_price -crypto_tweets.ETH_price)\n",
    "print('The P value for the ADF test on Spread is ', result_spread[1])"
   ]
  },
  {
   "cell_type": "markdown",
   "metadata": {},
   "source": [
    "# Correlation"
   ]
  },
  {
   "cell_type": "code",
   "execution_count": 70,
   "metadata": {},
   "outputs": [],
   "source": [
    "import numpy as np"
   ]
  },
  {
   "cell_type": "code",
   "execution_count": 73,
   "metadata": {},
   "outputs": [
    {
     "data": {
      "text/plain": [
       "array([[1.        , 0.92067428],\n",
       "       [0.92067428, 1.        ]])"
      ]
     },
     "execution_count": 73,
     "metadata": {},
     "output_type": "execute_result"
    }
   ],
   "source": [
    "np.corrcoef(crypto_tweets.ETH_price, crypto_tweets.DOGE_price)"
   ]
  },
  {
   "cell_type": "code",
   "execution_count": null,
   "metadata": {},
   "outputs": [],
   "source": []
  }
 ],
 "metadata": {
  "kernelspec": {
   "display_name": "virtual",
   "language": "python",
   "name": "virtual"
  },
  "language_info": {
   "codemirror_mode": {
    "name": "ipython",
    "version": 3
   },
   "file_extension": ".py",
   "mimetype": "text/x-python",
   "name": "python",
   "nbconvert_exporter": "python",
   "pygments_lexer": "ipython3",
   "version": "3.8.5"
  }
 },
 "nbformat": 4,
 "nbformat_minor": 4
}
